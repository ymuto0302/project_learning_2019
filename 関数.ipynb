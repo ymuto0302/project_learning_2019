{
  "nbformat": 4,
  "nbformat_minor": 0,
  "metadata": {
    "colab": {
      "name": "関数.ipynb",
      "version": "0.3.2",
      "provenance": [],
      "collapsed_sections": [],
      "include_colab_link": true
    },
    "kernelspec": {
      "name": "python3",
      "display_name": "Python 3"
    }
  },
  "cells": [
    {
      "cell_type": "markdown",
      "metadata": {
        "id": "view-in-github",
        "colab_type": "text"
      },
      "source": [
        "<a href=\"https://colab.research.google.com/github/ymuto0302/project_learning_2019/blob/master/%E9%96%A2%E6%95%B0.ipynb\" target=\"_parent\"><img src=\"https://colab.research.google.com/assets/colab-badge.svg\" alt=\"Open In Colab\"/></a>"
      ]
    },
    {
      "cell_type": "code",
      "metadata": {
        "id": "URsRexqbTqiR",
        "colab_type": "code",
        "colab": {}
      },
      "source": [
        ""
      ],
      "execution_count": 0,
      "outputs": []
    },
    {
      "cell_type": "markdown",
      "metadata": {
        "id": "GGkw4WelTtRA",
        "colab_type": "text"
      },
      "source": [
        "# 関数\n",
        "これまで幾つかの関数を使ってきた。\n",
        "例えば，\n",
        "* 文字列やリストの長さを求める len()\n",
        "* for 文で用いた range()\n",
        "\n",
        "このように「誰もが頻繁に利用する機能(=関数)」は予め言語内に実装されており，組込関数(bulit-in functions)と呼ばれる。\n",
        "\n",
        "関数を抽象化して考えると，次のように「入力を受け取り，適切な結果（出力）を返す」機能と捉えられる。\n",
        "\n",
        "![関数のイメージ](https://drive.google.com/file/d/1IhT4O2yvooyz5lFmFW_O2cbc-_UQdTFx/view?usp=sharing)"
      ]
    }
  ]
}