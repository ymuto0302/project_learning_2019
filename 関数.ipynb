{
  "nbformat": 4,
  "nbformat_minor": 0,
  "metadata": {
    "colab": {
      "name": "関数.ipynb",
      "version": "0.3.2",
      "provenance": [],
      "collapsed_sections": [],
      "include_colab_link": true
    },
    "kernelspec": {
      "name": "python3",
      "display_name": "Python 3"
    }
  },
  "cells": [
    {
      "cell_type": "markdown",
      "metadata": {
        "id": "view-in-github",
        "colab_type": "text"
      },
      "source": [
        "<a href=\"https://colab.research.google.com/github/ymuto0302/project_learning_2019/blob/master/%E9%96%A2%E6%95%B0.ipynb\" target=\"_parent\"><img src=\"https://colab.research.google.com/assets/colab-badge.svg\" alt=\"Open In Colab\"/></a>"
      ]
    },
    {
      "cell_type": "markdown",
      "metadata": {
        "id": "xSs773xGXzw_",
        "colab_type": "text"
      },
      "source": [
        "## 関数の例\n",
        "郵便番号を入力すると，その住所を返してくれる関数は存在しない。\n",
        "つまり，自分で作らなければならない。\n"
      ]
    },
    {
      "cell_type": "markdown",
      "metadata": {
        "id": "GGkw4WelTtRA",
        "colab_type": "text"
      },
      "source": [
        "# 関数\n",
        "これまで幾つかの関数を使ってきた。\n",
        "例えば，\n",
        "* 文字列やリストの長さを求める len()\n",
        "* for 文で用いた range()\n",
        "\n",
        "このように「誰もが頻繁に利用する機能(=関数)」は予め言語内に実装されており，組込関数(bulit-in functions)と呼ばれる。\n",
        "\n",
        "関数を抽象化して考えると，「入力を受け取り，適切な結果（出力）を返す」機能と捉えられる。\n",
        "\n",
        "ここで関数の機能を\n",
        "\n",
        "````\n",
        "入力 → 関数 → 出力\n",
        "````\n",
        "\n",
        "と表現すると，len() 関数，range() 関数は次のようになる。\n",
        "\n",
        "````\n",
        "文字列 \"abc\" → len() → 3\n",
        "リスト [13, 7, 3, 28, 9] → len() → 5\n",
        "整数 3 → range() → [0, 1, 2]\n",
        "````\n",
        "\n",
        "<img src=\"https://drive.google.com/open?id=1IhT4O2yvooyz5lFmFW_O2cbc-_UQdTFx\">\n",
        "\n",
        "これをプログラムの世界では，「関数へ引数を与えて，適切な戻り値を得る」と言う。"
      ]
    },
    {
      "cell_type": "code",
      "metadata": {
        "id": "dQsDqFh1WPFw",
        "colab_type": "code",
        "colab": {}
      },
      "source": [
        "# 郵便番号を引数として，対応する住所を返す関数\n",
        "def get_address(number):\n",
        "  posts = {\"755-0043\" : \"相生町\",\n",
        "  \"755-0022\" : \"神原町\",\n",
        "  \"755-0041\" : \"朝日町\",\n",
        "  \"755-0152\" : \"あすとぴあ\"\n",
        "  }\n",
        "\n",
        "  for post in posts.keys():\n",
        "    if(post == number):\n",
        "      return posts[post]\n",
        "\n",
        "  return \"該当なし\"\n",
        "\n",
        "def main():\n",
        "  address = get_address(\"755-0041\")\n",
        "  print(address)\n",
        "\n",
        "if __name__ == '__main__':\n",
        "  main()"
      ],
      "execution_count": 0,
      "outputs": []
    },
    {
      "cell_type": "markdown",
      "metadata": {
        "id": "hDll9s4XdbZ_",
        "colab_type": "text"
      },
      "source": [
        "なお，「郵便番号から住所を引っ張ってくる」機能を真面目に作ろうと思ったら，データ数が半端ないため，上記のようにコード中に（辞書の形で）書くのでなく，データベースを利用すべきである。"
      ]
    },
    {
      "cell_type": "markdown",
      "metadata": {
        "id": "AtcH85LeYgj4",
        "colab_type": "text"
      },
      "source": [
        "## 関数の形式は様々である\n",
        "* 引数は 0個以上\n",
        "*戻り値は 0個i以上\n",
        "* 引数のキーワード指定が可能\n",
        "* デフォルト引数を設定可能"
      ]
    },
    {
      "cell_type": "code",
      "metadata": {
        "id": "yIAxHgVXcj44",
        "colab_type": "code",
        "colab": {}
      },
      "source": [
        "def no_args(): #引数なしの例\n",
        "  return \"enjoy Python programming !!\"\n",
        "\n",
        "def three_args(x, y, z):\n",
        "  volume = (x * y) + z\n",
        "  return volume\n",
        "\n",
        "def default_args(name=\"Muto\", age=50):\n",
        "  print(\"{}さんは{}歳ですね\".format(name, age))\n",
        "\n",
        "def main():\n",
        "  str = no_args()\n",
        "  print(str)\n",
        "\n",
        "  print(\"計算結果は\", three_args(2, 3, 5))\n",
        "  print(\"計算結果は\", three_args(z=5, y=3, x=2)) #キーワード指定\n",
        "\n",
        "  default_args(name=\"Sato\", age=18)\n",
        "  default_args(name=\"Muto\") #デフォルト引数の利用\n",
        "\n",
        "if __name__ == '__main__':\n",
        "  main()"
      ],
      "execution_count": 0,
      "outputs": []
    },
    {
      "cell_type": "markdown",
      "metadata": {
        "id": "2zl091OjZBi_",
        "colab_type": "text"
      },
      "source": [
        "## 関数内で定義された変数の扱い\n",
        "関数内で定義された変数は「ローカル変数」と呼ばれ，他の関数では利用できない（見えない）。\n",
        "\n",
        "このように，変数の有効範囲（スコープ; scope)を制限することで，安全なプログラムを書ける。"
      ]
    },
    {
      "cell_type": "code",
      "metadata": {
        "id": "AFRoMxSHdIZU",
        "colab_type": "code",
        "colab": {}
      },
      "source": [
        "def foo():\n",
        "  a = 20\n",
        "  print(a)\n",
        "\n",
        "def main():\n",
        "  a = 10\n",
        "  print(a)\n",
        "  foo()\n",
        "  print(a)\n",
        "\n",
        "if __name__ == '__main__':\n",
        "  main()"
      ],
      "execution_count": 0,
      "outputs": []
    },
    {
      "cell_type": "markdown",
      "metadata": {
        "id": "7MIVTqCL8mIz",
        "colab_type": "text"
      },
      "source": [
        "## [課題] 前回の「条件分岐と繰り返し」で取り上げた課題を関数にしてみよう。\n",
        "課題は以下のとおりでした。\n",
        "\n",
        "*   入力した英文に \"dog\", \"cat\", \"elefant\", \"tiger\" のいずれかが含まれていれば \"animal\" と出力するコードを書け。\n",
        "\n",
        "これを関数にて実現する。\n",
        "すなわち，\n",
        "\n",
        "* 関数の引数は「入力した英文」\n",
        "* 戻り値は \"animal\" or \"not animal\"\n",
        "\n",
        "とする。\n",
        "\n",
        "参考までに，前回の課題に対応するプログラムを以下に示す。"
      ]
    },
    {
      "cell_type": "code",
      "metadata": {
        "id": "LEpt-YENsh3p",
        "colab_type": "code",
        "colab": {}
      },
      "source": [
        "# プログラム例 その１（if 文のみ用いるバージョン）\n",
        "sentence = \"I have a dog\"\n",
        "\n",
        "s = sentence.split(' ')\n",
        "if \"dog\" in s:\n",
        "  print(\"animal\")\n",
        "elif \"cat\" in s:\n",
        "  print(\"animal\")\n",
        "elif \"elefant\" in s:\n",
        "  print(\"animal\")\n",
        "elif \"tiger\" in s:\n",
        "  print(\"animal\")"
      ],
      "execution_count": 0,
      "outputs": []
    },
    {
      "cell_type": "code",
      "metadata": {
        "id": "theBhxrgtc8B",
        "colab_type": "code",
        "colab": {}
      },
      "source": [
        "# プログラム例 その２（if 文と for 文を組み合わせたバージョン）\n",
        "sentence = \"I had a cat last year\"\n",
        "\n",
        "s = sentence.split(' ')\n",
        "for word in s:\n",
        "  if word in [\"dog\", \"cat\", \"elefant\", \"tiger\"]:\n",
        "    print(\"animal\")\n",
        "    break"
      ],
      "execution_count": 0,
      "outputs": []
    }
  ]
}