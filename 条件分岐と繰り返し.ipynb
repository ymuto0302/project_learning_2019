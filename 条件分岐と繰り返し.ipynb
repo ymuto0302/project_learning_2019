{
  "nbformat": 4,
  "nbformat_minor": 0,
  "metadata": {
    "colab": {
      "name": "条件分岐と繰り返し.ipynb",
      "version": "0.3.2",
      "provenance": [],
      "collapsed_sections": [],
      "include_colab_link": true
    },
    "kernelspec": {
      "name": "python3",
      "display_name": "Python 3"
    }
  },
  "cells": [
    {
      "cell_type": "markdown",
      "metadata": {
        "id": "view-in-github",
        "colab_type": "text"
      },
      "source": [
        "<a href=\"https://colab.research.google.com/github/ymuto0302/project_learning_2019/blob/master/%E6%9D%A1%E4%BB%B6%E5%88%86%E5%B2%90%E3%81%A8%E7%B9%B0%E3%82%8A%E8%BF%94%E3%81%97.ipynb\" target=\"_parent\"><img src=\"https://colab.research.google.com/assets/colab-badge.svg\" alt=\"Open In Colab\"/></a>"
      ]
    },
    {
      "cell_type": "markdown",
      "metadata": {
        "id": "J8S2EorXIaFd",
        "colab_type": "text"
      },
      "source": [
        "# 条件分岐\n",
        "条件に従って処理を分ける場合のコード\n"
      ]
    },
    {
      "cell_type": "markdown",
      "metadata": {
        "id": "L3_4aR_bJ0xt",
        "colab_type": "text"
      },
      "source": [
        "## ２択の場合：if 〜 else 〜\n",
        "書式は以下のとおり：\n",
        "````\n",
        "if 条件:\n",
        "    処理A\n",
        "else:\n",
        "    処理B\n",
        "````"
      ]
    },
    {
      "cell_type": "code",
      "metadata": {
        "id": "i33vCcubIshf",
        "colab_type": "code",
        "colab": {}
      },
      "source": [
        "# ２択の場合のコード例\n",
        "age = input()\n",
        "age = int(age)\n",
        "if age < 20:\n",
        "  print(\"未成年である\")\n",
        "else:\n",
        "  print(\"成年である\")"
      ],
      "execution_count": 0,
      "outputs": []
    },
    {
      "cell_type": "markdown",
      "metadata": {
        "id": "meonHCxaJ-kC",
        "colab_type": "text"
      },
      "source": [
        "## ３択の場合：if 〜 elif 〜 else\n",
        "書式は以下のとおり：\n",
        "````\n",
        "if 条件1:\n",
        "    処理A\n",
        "elif 条件2:\n",
        "    処理B\n",
        "else:\n",
        "    処理C\n",
        "````"
      ]
    },
    {
      "cell_type": "code",
      "metadata": {
        "id": "dhlehHxXJNfR",
        "colab_type": "code",
        "colab": {}
      },
      "source": [
        "# 3択の場合のコード例：２次方程式の解\n",
        "import math\n",
        "\n",
        "a = input()\n",
        "b = input()\n",
        "c = input()\n",
        "a, b, c = int(a), int(b), int(c)\n",
        "d = b**2 - 4 * a * ｃ\n",
        "if d == 0:\n",
        "  print(\"重解\")\n",
        "  kai = -math.sqrt(c/a)\n",
        "  print(kai)\n",
        "elif d > 0:\n",
        "  print(\"異なる２つの実数解\")\n",
        "  kai1 = (-b + math.sqrt(d)) / (2 *a)\n",
        "  kai2 = (-b - math.sqrt(d)) / (2 *a)\n",
        "  print(kai1, kai2)\n",
        "else:\n",
        "  print(\"虚数解\")"
      ],
      "execution_count": 0,
      "outputs": []
    },
    {
      "cell_type": "markdown",
      "metadata": {
        "id": "04NCAur_LzVh",
        "colab_type": "text"
      },
      "source": [
        "## 比較演算子\n",
        "\n",
        "<div align=\"left\">\n",
        "<table>\n",
        "  <tr><td>x == y</td><td>xとyが等しい</td></tr>\n",
        "  <tr><td>x != y</td><td>xとyが等しくない</td></tr>\n",
        "  <tr><td>x > y <td>xはyより大きい</td></tr>\n",
        "  <tr><td>x >= y</td><td>xはy以上である</td></tr>\n",
        "  <tr><td>x in y</td><td>リストや文字列 y の中に要素 x が含まれる</td></tr>\n",
        "</table>\n",
        "</div>\n",
        "\n",
        "  (注意) 数値に加えて，文字列やリストも比較対象となる。"
      ]
    },
    {
      "cell_type": "markdown",
      "metadata": {
        "id": "kvmnP18ZKIkj",
        "colab_type": "text"
      },
      "source": [
        "## リスト中の要素のチェック"
      ]
    },
    {
      "cell_type": "code",
      "metadata": {
        "id": "QLPPQ4sOKNUy",
        "colab_type": "code",
        "colab": {}
      },
      "source": [
        "arashi = [\"大野\", \"櫻井\", \"相葉\", \"二宮\", \"松本\"]\n",
        "\n",
        "person=\"二宮\"\n",
        "if person in arashi:\n",
        "  print(\"{}は嵐のメンバーである\".format(person))\n",
        "else:\n",
        "  print(\"{}は嵐のメンバーでない\".format(person))\n",
        "\n",
        "person=\"中居\"\n",
        "if person in arashi:\n",
        "  print(\"{}は嵐のメンバーである\".format(person))\n",
        "else:\n",
        "  print(\"{}は嵐のメンバーでない\".format(person))"
      ],
      "execution_count": 0,
      "outputs": []
    },
    {
      "cell_type": "markdown",
      "metadata": {
        "id": "KYvjRXMqKY0x",
        "colab_type": "text"
      },
      "source": [
        "## 条件の組み合わせ (論理演算)"
      ]
    },
    {
      "cell_type": "code",
      "metadata": {
        "id": "OMERrot6KgGZ",
        "colab_type": "code",
        "colab": {}
      },
      "source": [
        "age = 17\n",
        "if age >= 16 and age <= 18:\n",
        "  print(\"高校生である\")\n",
        "else:\n",
        "  print(\"高校生ではない\")"
      ],
      "execution_count": 0,
      "outputs": []
    },
    {
      "cell_type": "markdown",
      "metadata": {
        "id": "23tRJFQlP546",
        "colab_type": "text"
      },
      "source": [
        "## [課題] 入力した英文に \"dog\", \"cat\", \"elefant\", \"tiger\" のいずれかが含まれていれば \"animal\" と出力するコードを書け。\n"
      ]
    },
    {
      "cell_type": "markdown",
      "metadata": {
        "id": "lvBufhHqKusK",
        "colab_type": "text"
      },
      "source": [
        "# 繰り返し\n",
        "繰り返しを実現する方法は for文と while文があるが，ここでは for文のみを取り上げる。\n",
        "\n",
        "```\n",
        ">>> for x in [1, 2, 3, 4]:\n",
        ">>>   print(x)\n",
        "\n",
        "1\n",
        "2\n",
        "3\n",
        "4\n",
        "```\n",
        "\n",
        "1〜100までの値をそれぞれ２倍した結果を出力したい場合は\n",
        "```\n",
        ">>> for x in [1, 2, 3, 4, 5, 6, ・・・・・・]:\n",
        ">>>   print(x * 2)\n",
        "```\n",
        "\n",
        "やってられるかい！！\n",
        "\n",
        "繰り返し回数が予め決まっているならば range() 関数が便利である。\n",
        "\n",
        "<table align=\"left\">\n",
        "  <tr><td>range(10)</td><td>[0, 1, 2, 3, 4, 5, 6, 7, 8, 9]</td></tr>\n",
        "  <tr><td>range(3, 10)</td><td>[3, 4, 5, 6, 7, 8, 9]</td></tr>\n",
        "  <tr><td>range(0, 10, 2)</td><td>[0, 2, 4, 6, 8]</td></tr>\n",
        "  </table>\n",
        "  \n",
        "  "
      ]
    },
    {
      "cell_type": "code",
      "metadata": {
        "id": "hRUPNvZ6PDZY",
        "colab_type": "code",
        "colab": {}
      },
      "source": [
        "# 1〜100までの値をそれぞれ２倍した結果を出力せよ。\n",
        "for x in range(1, 100):\n",
        "  print(x * 2)"
      ],
      "execution_count": 0,
      "outputs": []
    },
    {
      "cell_type": "markdown",
      "metadata": {
        "id": "4URoMygUPLJJ",
        "colab_type": "text"
      },
      "source": [
        "## [課題] for文とif文の組み合わせ\n",
        "1〜20の数値に対して，それが 3の倍数ならば \"win\"，それ以外ならば \"lose\" と表示するプログラムを作れ。\n",
        "\n",
        "出力イメージ：\n",
        "````\n",
        "1 lose\n",
        "2 lose\n",
        "3 win\n",
        "4 lose\n",
        "5 lose\n",
        "6 win\n",
        "7 lose\n",
        "````"
      ]
    }
  ]
}