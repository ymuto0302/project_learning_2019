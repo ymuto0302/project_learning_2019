{
  "nbformat": 4,
  "nbformat_minor": 0,
  "metadata": {
    "colab": {
      "name": "オープンデータの利用.ipynb",
      "version": "0.3.2",
      "provenance": [],
      "collapsed_sections": [],
      "include_colab_link": true
    },
    "kernelspec": {
      "name": "python3",
      "display_name": "Python 3"
    }
  },
  "cells": [
    {
      "cell_type": "markdown",
      "metadata": {
        "id": "view-in-github",
        "colab_type": "text"
      },
      "source": [
        "<a href=\"https://colab.research.google.com/github/ymuto0302/project_learning_2019/blob/master/%E3%82%AA%E3%83%BC%E3%83%97%E3%83%B3%E3%83%87%E3%83%BC%E3%82%BF%E3%81%AE%E5%88%A9%E7%94%A8.ipynb\" target=\"_parent\"><img src=\"https://colab.research.google.com/assets/colab-badge.svg\" alt=\"Open In Colab\"/></a>"
      ]
    },
    {
      "cell_type": "markdown",
      "metadata": {
        "id": "km5Fnwqvte4j",
        "colab_type": "text"
      },
      "source": [
        "# オープンデータの利用\n",
        "宇部市が提供するオープンデータ（概要）\n",
        "\n",
        "http://www.city.ube.yamaguchi.jp/shisei/keikaku/jouhoudenshi/opendata/\n",
        "\n",
        "\n",
        "宇部市の「観光スポット」に関するデータ\n",
        "\n",
        "http://data.bodik.jp/dataset/352021_tourist_attraction\n",
        "\n",
        "観光データのCSVデータは以下にある。\n",
        "\n",
        "http://data.bodik.jp/dataset/77a2683d-00f6-45f1-9b91-9029243f564f/resource/03924907-7518-4fd7-ab23-af58e328eefd/download/kankospot.csv\n",
        "\n",
        "観光スポットの緯度・経度および名称を取得し，マップ上に展開する。"
      ]
    },
    {
      "cell_type": "code",
      "metadata": {
        "id": "XHBZNOk3tdUO",
        "colab_type": "code",
        "colab": {}
      },
      "source": [
        "import pandas\n",
        "data = 'http://data.bodik.jp/dataset/77a2683d-00f6-45f1-9b91-9029243f564f/resource/03924907-7518-4fd7-ab23-af58e328eefd/download/kankospot.csv'\n",
        "df = pandas.read_csv(data, encoding='shift_jis')\n",
        "df = df.astype({'latitude':float, 'longitude':float}) #型変換\n",
        "\n",
        "import folium\n",
        "\n",
        "# 宇部市役所をマップの中心に置く\n",
        "base_latitude = 33.951623\n",
        "base_longitude = 131.246761\n",
        "\n",
        "map = folium.Map(location=[base_latitude, base_longitude], zoom_start=10)\n",
        "for name, lat, lon in zip(df.title, df.latitude, df.longitude):\n",
        "  folium.Marker(location=[lat, lon], popup=name).add_to(map)\n",
        "# map.save(\"ube_map.html\")\n",
        "\n",
        "map"
      ],
      "execution_count": 0,
      "outputs": []
    },
    {
      "cell_type": "markdown",
      "metadata": {
        "id": "WCfkGeif2ZmH",
        "colab_type": "text"
      },
      "source": [
        "# [課題] 宇部市の提供するオープンデータを利用して，可視化を試みよう。\n",
        "\n",
        "1.   「これだ！」というデータを探す。\n",
        "2.   データのフォーマットの確認（読み込む方法が異なってくるため）\n",
        "3.   グラフや上記のマップへの埋め込み等，可視化の方針を決める。\n",
        "4.   コーディング！\n",
        "\n",
        "\n",
        "\n",
        "\n"
      ]
    }
  ]
}