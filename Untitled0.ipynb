{
  "nbformat": 4,
  "nbformat_minor": 0,
  "metadata": {
    "colab": {
      "name": "Untitled0.ipynb",
      "version": "0.3.2",
      "provenance": [],
      "include_colab_link": true
    },
    "kernelspec": {
      "name": "python3",
      "display_name": "Python 3"
    }
  },
  "cells": [
    {
      "cell_type": "markdown",
      "metadata": {
        "id": "view-in-github",
        "colab_type": "text"
      },
      "source": [
        "<a href=\"https://colab.research.google.com/github/ymuto0302/project_learning_2019/blob/master/Untitled0.ipynb\" target=\"_parent\"><img src=\"https://colab.research.google.com/assets/colab-badge.svg\" alt=\"Open In Colab\"/></a>"
      ]
    },
    {
      "cell_type": "code",
      "metadata": {
        "id": "R4Qep18_0Csm",
        "colab_type": "code",
        "colab": {}
      },
      "source": [
        "mojiretsu = \"Time is Money\""
      ],
      "execution_count": 0,
      "outputs": []
    },
    {
      "cell_type": "code",
      "metadata": {
        "id": "eL8LG4r11Svs",
        "colab_type": "code",
        "outputId": "47f6f919-079f-4557-8b07-a16100b96831",
        "colab": {
          "base_uri": "https://localhost:8080/",
          "height": 35
        }
      },
      "source": [
        "str.lower()"
      ],
      "execution_count": 0,
      "outputs": [
        {
          "output_type": "execute_result",
          "data": {
            "text/plain": [
              "'time is money'"
            ]
          },
          "metadata": {
            "tags": []
          },
          "execution_count": 4
        }
      ]
    },
    {
      "cell_type": "code",
      "metadata": {
        "id": "BkFs84uW1T0d",
        "colab_type": "code",
        "outputId": "c4e816dd-c52a-4cb1-94d3-e9675ff1ca41",
        "colab": {
          "base_uri": "https://localhost:8080/",
          "height": 35
        }
      },
      "source": [
        "str.index('m')"
      ],
      "execution_count": 0,
      "outputs": [
        {
          "output_type": "execute_result",
          "data": {
            "text/plain": [
              "2"
            ]
          },
          "metadata": {
            "tags": []
          },
          "execution_count": 6
        }
      ]
    },
    {
      "cell_type": "code",
      "metadata": {
        "id": "TigGldwn1cvN",
        "colab_type": "code",
        "outputId": "21aa1050-c64f-48cd-c1b0-0afbe77dd297",
        "colab": {
          "base_uri": "https://localhost:8080/",
          "height": 35
        }
      },
      "source": [
        "str"
      ],
      "execution_count": 0,
      "outputs": [
        {
          "output_type": "execute_result",
          "data": {
            "text/plain": [
              "'Time is Money'"
            ]
          },
          "metadata": {
            "tags": []
          },
          "execution_count": 8
        }
      ]
    },
    {
      "cell_type": "code",
      "metadata": {
        "id": "QRfp0QHd1qaU",
        "colab_type": "code",
        "outputId": "61553b5f-51ba-4bdd-8667-a1e72eb05376",
        "colab": {
          "base_uri": "https://localhost:8080/",
          "height": 35
        }
      },
      "source": [
        "type(mojiretsu)"
      ],
      "execution_count": 0,
      "outputs": [
        {
          "output_type": "execute_result",
          "data": {
            "text/plain": [
              "str"
            ]
          },
          "metadata": {
            "tags": []
          },
          "execution_count": 11
        }
      ]
    },
    {
      "cell_type": "code",
      "metadata": {
        "id": "AXd6jnY87ihU",
        "colab_type": "code",
        "outputId": "f67b7076-bc4f-4d1a-8f73-966a24f6fbd0",
        "colab": {
          "base_uri": "https://localhost:8080/",
          "height": 35
        }
      },
      "source": [
        "a=15.3\n",
        "type(a)"
      ],
      "execution_count": 0,
      "outputs": [
        {
          "output_type": "execute_result",
          "data": {
            "text/plain": [
              "float"
            ]
          },
          "metadata": {
            "tags": []
          },
          "execution_count": 13
        }
      ]
    },
    {
      "cell_type": "code",
      "metadata": {
        "id": "PzWOJEuI7T2p",
        "colab_type": "code",
        "colab": {}
      },
      "source": [
        "x=['a', 'b', 'c']"
      ],
      "execution_count": 0,
      "outputs": []
    },
    {
      "cell_type": "code",
      "metadata": {
        "id": "bqmDsH057z3V",
        "colab_type": "code",
        "outputId": "19f10442-1c9d-4a57-bd8f-6a196f2f903a",
        "colab": {
          "base_uri": "https://localhost:8080/",
          "height": 35
        }
      },
      "source": [
        "type(x)"
      ],
      "execution_count": 0,
      "outputs": [
        {
          "output_type": "execute_result",
          "data": {
            "text/plain": [
              "list"
            ]
          },
          "metadata": {
            "tags": []
          },
          "execution_count": 16
        }
      ]
    },
    {
      "cell_type": "code",
      "metadata": {
        "id": "j-8seYMb75R7",
        "colab_type": "code",
        "colab": {}
      },
      "source": [
        "a=15"
      ],
      "execution_count": 0,
      "outputs": []
    },
    {
      "cell_type": "code",
      "metadata": {
        "id": "czqQMDtM8IA6",
        "colab_type": "code",
        "colab": {}
      },
      "source": [
        "a=a+3"
      ],
      "execution_count": 0,
      "outputs": []
    },
    {
      "cell_type": "code",
      "metadata": {
        "id": "rHyj9sXl8JAc",
        "colab_type": "code",
        "outputId": "b05762a9-cedb-4ffb-ffa0-27de756cf9b5",
        "colab": {
          "base_uri": "https://localhost:8080/",
          "height": 35
        }
      },
      "source": [
        "print(a)"
      ],
      "execution_count": 0,
      "outputs": [
        {
          "output_type": "stream",
          "text": [
            "18\n"
          ],
          "name": "stdout"
        }
      ]
    },
    {
      "cell_type": "code",
      "metadata": {
        "id": "BcOpmSe68J1L",
        "colab_type": "code",
        "colab": {}
      },
      "source": [
        "a=15\n",
        "a+=3"
      ],
      "execution_count": 0,
      "outputs": []
    },
    {
      "cell_type": "code",
      "metadata": {
        "id": "HwY0XUyg8SPx",
        "colab_type": "code",
        "outputId": "66214833-4558-471f-8856-1bd5248611dd",
        "colab": {
          "base_uri": "https://localhost:8080/",
          "height": 35
        }
      },
      "source": [
        "print(a)"
      ],
      "execution_count": 0,
      "outputs": [
        {
          "output_type": "stream",
          "text": [
            "18\n"
          ],
          "name": "stdout"
        }
      ]
    },
    {
      "cell_type": "code",
      "metadata": {
        "id": "lTinfWDU8TLJ",
        "colab_type": "code",
        "colab": {}
      },
      "source": [
        "s1=\"We are the world\"\n",
        "s2=\"You are mine\""
      ],
      "execution_count": 0,
      "outputs": []
    },
    {
      "cell_type": "code",
      "metadata": {
        "id": "rgxu4-kW-S3i",
        "colab_type": "code",
        "outputId": "fa5c5e6f-9767-49ac-bca5-2bcd40f858bb",
        "colab": {
          "base_uri": "https://localhost:8080/",
          "height": 35
        }
      },
      "source": [
        "s1+s2"
      ],
      "execution_count": 0,
      "outputs": [
        {
          "output_type": "execute_result",
          "data": {
            "text/plain": [
              "'We are the worldYou are mine'"
            ]
          },
          "metadata": {
            "tags": []
          },
          "execution_count": 23
        }
      ]
    },
    {
      "cell_type": "code",
      "metadata": {
        "id": "pbBWzpNg-TpL",
        "colab_type": "code",
        "outputId": "241c849d-be62-4f65-f063-659ccda031f1",
        "colab": {
          "base_uri": "https://localhost:8080/",
          "height": 71
        }
      },
      "source": [
        "a=input()\n",
        "b=input()\n",
        "print(int(a)+int(b))"
      ],
      "execution_count": 0,
      "outputs": [
        {
          "output_type": "stream",
          "text": [
            "13\n",
            "5\n",
            "18\n"
          ],
          "name": "stdout"
        }
      ]
    },
    {
      "cell_type": "code",
      "metadata": {
        "id": "LzWgeI3W-dYY",
        "colab_type": "code",
        "outputId": "3e580c2d-a291-4ae9-f2b1-4f1293c84828",
        "colab": {
          "base_uri": "https://localhost:8080/",
          "height": 35
        }
      },
      "source": [
        "s1.replace(\"We\", \"You\")"
      ],
      "execution_count": 0,
      "outputs": [
        {
          "output_type": "execute_result",
          "data": {
            "text/plain": [
              "'You are the world'"
            ]
          },
          "metadata": {
            "tags": []
          },
          "execution_count": 27
        }
      ]
    },
    {
      "cell_type": "code",
      "metadata": {
        "id": "hS_QvXkt_4u0",
        "colab_type": "code",
        "outputId": "be980e7f-bc36-4510-9e54-998159f331d3",
        "colab": {
          "base_uri": "https://localhost:8080/",
          "height": 35
        }
      },
      "source": [
        "s1"
      ],
      "execution_count": 0,
      "outputs": [
        {
          "output_type": "execute_result",
          "data": {
            "text/plain": [
              "'We are the world'"
            ]
          },
          "metadata": {
            "tags": []
          },
          "execution_count": 28
        }
      ]
    },
    {
      "cell_type": "code",
      "metadata": {
        "id": "m_Aiam4U_6Zy",
        "colab_type": "code",
        "outputId": "8bda56e0-b444-4985-c689-07adb24697ab",
        "colab": {
          "base_uri": "https://localhost:8080/",
          "height": 35
        }
      },
      "source": [
        "s1[3]"
      ],
      "execution_count": 0,
      "outputs": [
        {
          "output_type": "execute_result",
          "data": {
            "text/plain": [
              "'a'"
            ]
          },
          "metadata": {
            "tags": []
          },
          "execution_count": 30
        }
      ]
    },
    {
      "cell_type": "code",
      "metadata": {
        "id": "_dV3NT18AON3",
        "colab_type": "code",
        "outputId": "eb6388dd-c70a-4354-937e-c62fe160efb6",
        "colab": {
          "base_uri": "https://localhost:8080/",
          "height": 35
        }
      },
      "source": [
        "s1[3:8]"
      ],
      "execution_count": 0,
      "outputs": [
        {
          "output_type": "execute_result",
          "data": {
            "text/plain": [
              "'are t'"
            ]
          },
          "metadata": {
            "tags": []
          },
          "execution_count": 32
        }
      ]
    },
    {
      "cell_type": "code",
      "metadata": {
        "id": "eEt8fVeEARnb",
        "colab_type": "code",
        "colab": {}
      },
      "source": [
        "temperatures = [22, 25, 24, 18, 23, 25, 24]"
      ],
      "execution_count": 0,
      "outputs": []
    },
    {
      "cell_type": "code",
      "metadata": {
        "id": "SxtO4sYnBxk9",
        "colab_type": "code",
        "outputId": "0bc12f67-ee45-49b2-d454-a6d3b15784f1",
        "colab": {
          "base_uri": "https://localhost:8080/",
          "height": 35
        }
      },
      "source": [
        "temperatures[0]"
      ],
      "execution_count": 0,
      "outputs": [
        {
          "output_type": "execute_result",
          "data": {
            "text/plain": [
              "22"
            ]
          },
          "metadata": {
            "tags": []
          },
          "execution_count": 34
        }
      ]
    },
    {
      "cell_type": "code",
      "metadata": {
        "id": "LB454FQUB0KZ",
        "colab_type": "code",
        "outputId": "455196f9-c785-457d-8a9f-2275dcd47af7",
        "colab": {
          "base_uri": "https://localhost:8080/",
          "height": 35
        }
      },
      "source": [
        "temperatures[2]"
      ],
      "execution_count": 0,
      "outputs": [
        {
          "output_type": "execute_result",
          "data": {
            "text/plain": [
              "24"
            ]
          },
          "metadata": {
            "tags": []
          },
          "execution_count": 35
        }
      ]
    },
    {
      "cell_type": "code",
      "metadata": {
        "id": "eclkGcxrB10m",
        "colab_type": "code",
        "outputId": "b35a83d2-a206-40b3-f117-bea6ca47970e",
        "colab": {
          "base_uri": "https://localhost:8080/",
          "height": 35
        }
      },
      "source": [
        "temperatures[1:4]"
      ],
      "execution_count": 0,
      "outputs": [
        {
          "output_type": "execute_result",
          "data": {
            "text/plain": [
              "[25, 24, 18]"
            ]
          },
          "metadata": {
            "tags": []
          },
          "execution_count": 44
        }
      ]
    },
    {
      "cell_type": "code",
      "metadata": {
        "id": "_T2lr8vWCYpG",
        "colab_type": "code",
        "outputId": "de4dff14-e4e3-4064-aaf1-5cc96001d784",
        "colab": {
          "base_uri": "https://localhost:8080/",
          "height": 35
        }
      },
      "source": [
        "temperatures"
      ],
      "execution_count": 0,
      "outputs": [
        {
          "output_type": "execute_result",
          "data": {
            "text/plain": [
              "[22, 25, 24, 18, 23, 25, 24, 40, '[', '1', ',', '2', ',', '3', ']']"
            ]
          },
          "metadata": {
            "tags": []
          },
          "execution_count": 45
        }
      ]
    },
    {
      "cell_type": "code",
      "metadata": {
        "id": "ezzgj2knCilr",
        "colab_type": "code",
        "outputId": "6f5311c8-4b6a-4f2b-d106-b2df0ce35546",
        "colab": {
          "base_uri": "https://localhost:8080/",
          "height": 35
        }
      },
      "source": [
        "temperatures.index(24)"
      ],
      "execution_count": 0,
      "outputs": [
        {
          "output_type": "execute_result",
          "data": {
            "text/plain": [
              "2"
            ]
          },
          "metadata": {
            "tags": []
          },
          "execution_count": 39
        }
      ]
    },
    {
      "cell_type": "code",
      "metadata": {
        "id": "gKFDAPcxCmRl",
        "colab_type": "code",
        "colab": {}
      },
      "source": [
        "temperatures.append(40)"
      ],
      "execution_count": 0,
      "outputs": []
    },
    {
      "cell_type": "code",
      "metadata": {
        "id": "ojnDN8SzDVd-",
        "colab_type": "code",
        "outputId": "721830cf-14bd-4e7e-a199-7eeb772e9431",
        "colab": {
          "base_uri": "https://localhost:8080/",
          "height": 35
        }
      },
      "source": [
        "temperatures"
      ],
      "execution_count": 0,
      "outputs": [
        {
          "output_type": "execute_result",
          "data": {
            "text/plain": [
              "[22, 25, 24, 18, 23, 25, 24, 40, '[', '1', ',', '2', ',', '3', ']']"
            ]
          },
          "metadata": {
            "tags": []
          },
          "execution_count": 43
        }
      ]
    },
    {
      "cell_type": "code",
      "metadata": {
        "id": "m0N84FRwDW9f",
        "colab_type": "code",
        "colab": {}
      },
      "source": [
        "temperatures.extend([1,2,3])"
      ],
      "execution_count": 0,
      "outputs": []
    },
    {
      "cell_type": "code",
      "metadata": {
        "id": "t-xLdYKXDc9k",
        "colab_type": "code",
        "outputId": "9eb0f7e7-6c31-45ed-bf63-476406c3b854",
        "colab": {
          "base_uri": "https://localhost:8080/",
          "height": 35
        }
      },
      "source": [
        "temperatures"
      ],
      "execution_count": 0,
      "outputs": [
        {
          "output_type": "execute_result",
          "data": {
            "text/plain": [
              "[22, 25, 24, 18, 23, 25, 24, 1, 2, 3]"
            ]
          },
          "metadata": {
            "tags": []
          },
          "execution_count": 51
        }
      ]
    },
    {
      "cell_type": "code",
      "metadata": {
        "id": "DV94T1W8DnYB",
        "colab_type": "code",
        "colab": {}
      },
      "source": [
        "post = {\"755-0043\" : \"相生町\",\n",
        "        \"755-0022\" : \"神原町\",\n",
        "        \"755-0041\" : \"朝日町\"}"
      ],
      "execution_count": 0,
      "outputs": []
    },
    {
      "cell_type": "code",
      "metadata": {
        "id": "_U89ES8P9_Ly",
        "colab_type": "code",
        "outputId": "6006bc1e-f688-4801-c588-f308e140a2a4",
        "colab": {
          "base_uri": "https://localhost:8080/",
          "height": 34
        }
      },
      "source": [
        "print(post)"
      ],
      "execution_count": 0,
      "outputs": [
        {
          "output_type": "stream",
          "text": [
            "{'755-0043': '相生町', '755-0022': '神原町', '755-0041': '朝日町'}\n"
          ],
          "name": "stdout"
        }
      ]
    },
    {
      "cell_type": "code",
      "metadata": {
        "id": "1QUaTInn-G27",
        "colab_type": "code",
        "outputId": "eab66d94-e2f5-4fa3-eb56-910d6e781663",
        "colab": {
          "base_uri": "https://localhost:8080/",
          "height": 34
        }
      },
      "source": [
        "post.keys()"
      ],
      "execution_count": 0,
      "outputs": [
        {
          "output_type": "execute_result",
          "data": {
            "text/plain": [
              "dict_keys(['755-0043', '755-0022', '755-0041'])"
            ]
          },
          "metadata": {
            "tags": []
          },
          "execution_count": 4
        }
      ]
    },
    {
      "cell_type": "code",
      "metadata": {
        "id": "en1s1N9O-KdT",
        "colab_type": "code",
        "colab": {}
      },
      "source": [
        "post[\"755-0152\"]=\"あすとぴあ\""
      ],
      "execution_count": 0,
      "outputs": []
    },
    {
      "cell_type": "code",
      "metadata": {
        "id": "6rDA5suL-UUU",
        "colab_type": "code",
        "outputId": "3235cfc7-4931-42f0-beaa-15b6b7a44d0e",
        "colab": {
          "base_uri": "https://localhost:8080/",
          "height": 34
        }
      },
      "source": [
        "post"
      ],
      "execution_count": 0,
      "outputs": [
        {
          "output_type": "execute_result",
          "data": {
            "text/plain": [
              "{'755-0022': '神原町', '755-0041': '朝日町', '755-0043': '相生町', '755-0152': 'あすとぴあ'}"
            ]
          },
          "metadata": {
            "tags": []
          },
          "execution_count": 6
        }
      ]
    },
    {
      "cell_type": "code",
      "metadata": {
        "id": "psIXwT6I-VKq",
        "colab_type": "code",
        "colab": {}
      },
      "source": [
        "score={\"佐藤\" : {\"数学\" : 65, \"理科\" : 80, \"国語\" : 70, \"社会\" : 75},\n",
        "       \"鈴木\" : {\"数学\" : 90, \"理科\" : 100, \"国語\" : 60, \"社会\" : 60},\n",
        "       \"田中\" : {\"数学\" : 65, \"理科\" : 60, \"国語\" : 100, \"社会\" : 90}}"
      ],
      "execution_count": 0,
      "outputs": []
    },
    {
      "cell_type": "code",
      "metadata": {
        "id": "xU5ncKSF_T86",
        "colab_type": "code",
        "outputId": "55d13096-6a82-46cb-807c-58a3091b030f",
        "colab": {
          "base_uri": "https://localhost:8080/",
          "height": 34
        }
      },
      "source": [
        "score"
      ],
      "execution_count": 0,
      "outputs": [
        {
          "output_type": "execute_result",
          "data": {
            "text/plain": [
              "{'佐藤': [65, 80, 70, 75], '田中': [65, 60, 100, 90], '鈴木': [90, 100, 60, 60]}"
            ]
          },
          "metadata": {
            "tags": []
          },
          "execution_count": 8
        }
      ]
    },
    {
      "cell_type": "code",
      "metadata": {
        "id": "Oc3hMfpQ_U_7",
        "colab_type": "code",
        "outputId": "44c77c6c-9013-4840-d10b-9416e35d58a2",
        "colab": {
          "base_uri": "https://localhost:8080/",
          "height": 34
        }
      },
      "source": [
        "score[\"田中\"]"
      ],
      "execution_count": 0,
      "outputs": [
        {
          "output_type": "execute_result",
          "data": {
            "text/plain": [
              "[65, 60, 100, 90]"
            ]
          },
          "metadata": {
            "tags": []
          },
          "execution_count": 9
        }
      ]
    },
    {
      "cell_type": "code",
      "metadata": {
        "id": "SCD_MFRD_W73",
        "colab_type": "code",
        "outputId": "2f2d337d-f784-48d2-ccbf-7c44d1b5d6e5",
        "colab": {
          "base_uri": "https://localhost:8080/",
          "height": 68
        }
      },
      "source": [
        "score"
      ],
      "execution_count": 0,
      "outputs": [
        {
          "output_type": "execute_result",
          "data": {
            "text/plain": [
              "{'佐藤': {'国語': 70, '数学': 65, '理科': 80, '社会': 75},\n",
              " '田中': {'国語': 100, '数学': 65, '理科': 60, '社会': 90},\n",
              " '鈴木': {'国語': 60, '数学': 90, '理科': 100, '社会': 60}}"
            ]
          },
          "metadata": {
            "tags": []
          },
          "execution_count": 12
        }
      ]
    },
    {
      "cell_type": "code",
      "metadata": {
        "id": "bD6sWnQJ_6NM",
        "colab_type": "code",
        "outputId": "a998a577-f99b-433a-ea1b-41a8c3718156",
        "colab": {
          "base_uri": "https://localhost:8080/",
          "height": 34
        }
      },
      "source": [
        "score[\"田中\"][\"数学\"]"
      ],
      "execution_count": 0,
      "outputs": [
        {
          "output_type": "execute_result",
          "data": {
            "text/plain": [
              "65"
            ]
          },
          "metadata": {
            "tags": []
          },
          "execution_count": 13
        }
      ]
    },
    {
      "cell_type": "code",
      "metadata": {
        "id": "5vKjmjwOADLN",
        "colab_type": "code",
        "colab": {}
      },
      "source": [
        "x=[1,2,3]\n",
        "y=[3,2,1]"
      ],
      "execution_count": 0,
      "outputs": []
    },
    {
      "cell_type": "code",
      "metadata": {
        "id": "nGXAF0M7PveX",
        "colab_type": "code",
        "outputId": "ef345ea2-3537-4ca8-dc64-b555553afb16",
        "colab": {
          "base_uri": "https://localhost:8080/",
          "height": 35
        }
      },
      "source": [
        "x == y"
      ],
      "execution_count": 0,
      "outputs": [
        {
          "output_type": "execute_result",
          "data": {
            "text/plain": [
              "False"
            ]
          },
          "metadata": {
            "tags": []
          },
          "execution_count": 4
        }
      ]
    },
    {
      "cell_type": "code",
      "metadata": {
        "id": "kZSz8vH2PwZJ",
        "colab_type": "code",
        "colab": {}
      },
      "source": [
        "x=\"abc\"\n",
        "y=\"abc\""
      ],
      "execution_count": 0,
      "outputs": []
    },
    {
      "cell_type": "code",
      "metadata": {
        "id": "LX1Uv_nQP3cN",
        "colab_type": "code",
        "outputId": "e69141bc-a73e-4dff-fb9d-c4b51d3f68be",
        "colab": {
          "base_uri": "https://localhost:8080/",
          "height": 35
        }
      },
      "source": [
        "x==y"
      ],
      "execution_count": 0,
      "outputs": [
        {
          "output_type": "execute_result",
          "data": {
            "text/plain": [
              "True"
            ]
          },
          "metadata": {
            "tags": []
          },
          "execution_count": 6
        }
      ]
    },
    {
      "cell_type": "code",
      "metadata": {
        "id": "3yqwStbMP4Ei",
        "colab_type": "code",
        "outputId": "9e13a907-192b-4766-ee6b-f4af2a432c54",
        "colab": {
          "base_uri": "https://localhost:8080/",
          "height": 35
        }
      },
      "source": [
        "not x==y"
      ],
      "execution_count": 0,
      "outputs": [
        {
          "output_type": "execute_result",
          "data": {
            "text/plain": [
              "False"
            ]
          },
          "metadata": {
            "tags": []
          },
          "execution_count": 7
        }
      ]
    },
    {
      "cell_type": "code",
      "metadata": {
        "id": "FoFf8sunP5sf",
        "colab_type": "code",
        "colab": {}
      },
      "source": [
        ""
      ],
      "execution_count": 0,
      "outputs": []
    }
  ]
}